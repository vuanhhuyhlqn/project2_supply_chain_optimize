{
 "cells": [
  {
   "cell_type": "code",
   "execution_count": 129,
   "id": "d981fa17-604d-4287-8291-82f883a59ba7",
   "metadata": {},
   "outputs": [],
   "source": [
    "import numpy as np\n",
    "import math"
   ]
  },
  {
   "cell_type": "code",
   "execution_count": 130,
   "id": "6811c178-4574-4739-a2c8-cdd14dc72a8d",
   "metadata": {},
   "outputs": [],
   "source": [
    "np.random.seed(0)"
   ]
  },
  {
   "cell_type": "code",
   "execution_count": 176,
   "id": "c9279908-5f51-407b-8a65-79395af210e6",
   "metadata": {},
   "outputs": [],
   "source": [
    "class Task:\n",
    "    def __init__(self, num_plants, num_dcs, num_retailers, num_customers, coord_bound=1000):\n",
    "        self.num_plants = num_plants\n",
    "        self.num_dcs = num_dcs\n",
    "        self.num_retailers = num_retailers\n",
    "        self.num_customers = num_customers\n",
    "\n",
    "        #site coordinates\n",
    "        self.plant_coords = np.random.uniform(-coord_bound, coord_bound, size=(self.num_plants, 2))\n",
    "        self.dc_coords = np.random.uniform(-coord_bound, coord_bound, size=(self.num_dcs, 2))\n",
    "        self.retailer_coords = np.random.uniform(-coord_bound, coord_bound, size=(self.num_retailers, 2))\n",
    "        self.customer_coords = np.random.uniform(-coord_bound, coord_bound, size=(self.num_customers, 2))\n",
    "\n",
    "        #shipping cost\n",
    "        self.x1 = np.zeros((self.num_plants, self.num_dcs))\n",
    "        self.x2 = np.zeros((self.num_dcs, self.num_retailers))\n",
    "        self.x3 = np.zeros((self.num_retailers, self.num_customers))\n",
    "        self.x4 = np.zeros((self.num_plants, self.num_customers))\n",
    "        self.x5 = np.zeros((self.num_dcs, self.num_customers))\n",
    "        self.x6 = np.zeros((self.num_plants, self.num_retailers))\n",
    "\n",
    "        self.gen_cost()\n",
    "\n",
    "    def gen_cost(self, b_bound=10.0):\n",
    "        self.x1 = self.dist(self.plant_coords, self.dc_coords)\n",
    "        self.x2 = self.dist(self.dc_coords, self.retailer_coords)\n",
    "        self.x3 = self.dist(self.retailer_coords, self.customer_coords)\n",
    "        self.x4 = self.dist(self.plant_coords, self.customer_coords)\n",
    "        self.x5 = self.dist(self.dc_coords, self.customer_coords)\n",
    "        self.x6 = self.dist(self.plant_coords, self.retailer_coords)\n",
    "\n",
    "        #normal delivery\n",
    "        a = np.random.uniform(1.0, 1.2, size=len(self.x1))\n",
    "        a_ = np.lib.stride_tricks.as_strided(a, self.x1.shape, (a.strides[0], 0))\n",
    "        b = np.random.uniform(-b_bound, b_bound, size=self.x1.shape)\n",
    "        self.x1 = self.x1 * a_ + b\n",
    "\n",
    "        a = np.random.uniform(1.0, 1.2, size=len(self.x2))\n",
    "        a_ = np.lib.stride_tricks.as_strided(a, self.x2.shape, (a.strides[0], 0))\n",
    "        b = np.random.uniform(-b_bound, b_bound, size=self.x2.shape)\n",
    "        self.x2 = self.x2 * a_ + b\n",
    "\n",
    "        a = np.random.uniform(1.0, 1.2, size=len(self.x3))\n",
    "        a_ = np.lib.stride_tricks.as_strided(a, self.x3.shape, (a.strides[0], 0))\n",
    "        b = np.random.uniform(-b_bound, b_bound, size=self.x3.shape)\n",
    "        self.x3 = self.x3 * a_ + b\n",
    "\n",
    "        #direct shipment\n",
    "        a = np.random.uniform(1.2, 1.4, size=len(self.x4))\n",
    "        a_ = np.lib.stride_tricks.as_strided(a, self.x4.shape, (a.strides[0], 0))\n",
    "        b = np.random.uniform(-b_bound, b_bound, size=self.x4.shape)\n",
    "        self.x4 = self.x4 * a_ + b\n",
    "\n",
    "        a = np.random.uniform(1.2, 1.4, size=len(self.x6))\n",
    "        a_ = np.lib.stride_tricks.as_strided(a, self.x6.shape, (a.strides[0], 0))\n",
    "        b = np.random.uniform(-b_bound, b_bound, size=self.x6.shape)\n",
    "        self.x6 = self.x6 * a_ + b\n",
    "    \n",
    "        #direct delivery\n",
    "        a = np.random.uniform(1.4, 1.6, size=len(self.x5))\n",
    "        a_ = np.lib.stride_tricks.as_strided(a, self.x5.shape, (a.strides[0], 0))\n",
    "        b = np.random.uniform(-b_bound, b_bound, size=self.x5.shape)\n",
    "        self.x5 = self.x5 * a_ + b\n",
    "        \n",
    "        \n",
    "\n",
    "    def dist(self, site_a_coords, site_b_coords):\n",
    "        # def single_dist(a, b):\n",
    "        #     return math.sqrt(((a[0] - b[0]) ** 2) + ((a[1] - b[1]) ** 2))\n",
    "\n",
    "        # for i in range(len(site_a_coords)):\n",
    "        #     for j in range(len(site_b_coords)):\n",
    "        #         print(\"{0} \".format(single_dist(site_a_coords[i], site_b_coords[j])))\n",
    "        #     print(\"\")\n",
    "            \n",
    "        site_a_coords_x = site_a_coords[:, 0]\n",
    "        site_a_coords_y = site_a_coords[:, 1]\n",
    "        \n",
    "        site_b_coords_x = site_b_coords[:, 0]\n",
    "        site_b_coords_y = site_b_coords[:, 1]\n",
    "\n",
    "        dist_mat_shape = (site_a_coords.shape[0], site_b_coords.shape[0])\n",
    "\n",
    "        site_a_coords_x_ = np.lib.stride_tricks.as_strided(site_a_coords_x, dist_mat_shape, (16, 0))\n",
    "        site_b_coords_x_ = np.lib.stride_tricks.as_strided(site_b_coords_x, dist_mat_shape, (0, 16))\n",
    "        x_diffs = (site_a_coords_x_ - site_b_coords_x) ** 2\n",
    "\n",
    "        site_a_coords_y_ = np.lib.stride_tricks.as_strided(site_a_coords_y, dist_mat_shape, (16, 0))\n",
    "        site_b_coords_y_ = np.lib.stride_tricks.as_strided(site_b_coords_y, dist_mat_shape, (0, 16))\n",
    "        y_diffs = (site_a_coords_y_ - site_b_coords_y) ** 2\n",
    "        \n",
    "        dist_mat = np.sqrt(x_diffs + y_diffs)\n",
    "        return dist_mat\n",
    "    \n",
    "        "
   ]
  },
  {
   "cell_type": "code",
   "execution_count": 177,
   "id": "b52ed139-e881-4ba7-8c5b-74386cf19d2b",
   "metadata": {},
   "outputs": [
    {
     "ename": "UnboundLocalError",
     "evalue": "local variable 'x1' referenced before assignment",
     "output_type": "error",
     "traceback": [
      "\u001b[1;31m---------------------------------------------------------------------------\u001b[0m",
      "\u001b[1;31mUnboundLocalError\u001b[0m                         Traceback (most recent call last)",
      "Cell \u001b[1;32mIn[177], line 1\u001b[0m\n\u001b[1;32m----> 1\u001b[0m task \u001b[38;5;241m=\u001b[39m \u001b[43mTask\u001b[49m\u001b[43m(\u001b[49m\u001b[38;5;241;43m3\u001b[39;49m\u001b[43m,\u001b[49m\u001b[43m \u001b[49m\u001b[38;5;241;43m4\u001b[39;49m\u001b[43m,\u001b[49m\u001b[43m \u001b[49m\u001b[38;5;241;43m5\u001b[39;49m\u001b[43m,\u001b[49m\u001b[43m \u001b[49m\u001b[38;5;241;43m6\u001b[39;49m\u001b[43m,\u001b[49m\u001b[43m \u001b[49m\u001b[43mcoord_bound\u001b[49m\u001b[38;5;241;43m=\u001b[39;49m\u001b[38;5;241;43m10.0\u001b[39;49m\u001b[43m)\u001b[49m\n",
      "Cell \u001b[1;32mIn[176], line 22\u001b[0m, in \u001b[0;36mTask.__init__\u001b[1;34m(self, num_plants, num_dcs, num_retailers, num_customers, coord_bound)\u001b[0m\n\u001b[0;32m     19\u001b[0m \u001b[38;5;28mself\u001b[39m\u001b[38;5;241m.\u001b[39mx5 \u001b[38;5;241m=\u001b[39m np\u001b[38;5;241m.\u001b[39mzeros((\u001b[38;5;28mself\u001b[39m\u001b[38;5;241m.\u001b[39mnum_dcs, \u001b[38;5;28mself\u001b[39m\u001b[38;5;241m.\u001b[39mnum_customers))\n\u001b[0;32m     20\u001b[0m \u001b[38;5;28mself\u001b[39m\u001b[38;5;241m.\u001b[39mx6 \u001b[38;5;241m=\u001b[39m np\u001b[38;5;241m.\u001b[39mzeros((\u001b[38;5;28mself\u001b[39m\u001b[38;5;241m.\u001b[39mnum_plants, \u001b[38;5;28mself\u001b[39m\u001b[38;5;241m.\u001b[39mnum_retailers))\n\u001b[1;32m---> 22\u001b[0m \u001b[38;5;28;43mself\u001b[39;49m\u001b[38;5;241;43m.\u001b[39;49m\u001b[43mgen_cost\u001b[49m\u001b[43m(\u001b[49m\u001b[43m)\u001b[49m\n",
      "Cell \u001b[1;32mIn[176], line 36\u001b[0m, in \u001b[0;36mTask.gen_cost\u001b[1;34m(self, b_bound)\u001b[0m\n\u001b[0;32m     34\u001b[0m a_ \u001b[38;5;241m=\u001b[39m np\u001b[38;5;241m.\u001b[39mlib\u001b[38;5;241m.\u001b[39mstride_tricks\u001b[38;5;241m.\u001b[39mas_strided(a, \u001b[38;5;28mself\u001b[39m\u001b[38;5;241m.\u001b[39mx1\u001b[38;5;241m.\u001b[39mshape, (a\u001b[38;5;241m.\u001b[39mstrides[\u001b[38;5;241m0\u001b[39m], \u001b[38;5;241m0\u001b[39m))\n\u001b[0;32m     35\u001b[0m b \u001b[38;5;241m=\u001b[39m np\u001b[38;5;241m.\u001b[39mrandom\u001b[38;5;241m.\u001b[39muniform(\u001b[38;5;241m-\u001b[39mb_bound, b_bound, size\u001b[38;5;241m=\u001b[39m\u001b[38;5;28mself\u001b[39m\u001b[38;5;241m.\u001b[39mx1\u001b[38;5;241m.\u001b[39mshape)\n\u001b[1;32m---> 36\u001b[0m x1 \u001b[38;5;241m=\u001b[39m \u001b[43mx1\u001b[49m \u001b[38;5;241m*\u001b[39m a_ \u001b[38;5;241m+\u001b[39m b\n\u001b[0;32m     38\u001b[0m a \u001b[38;5;241m=\u001b[39m np\u001b[38;5;241m.\u001b[39mrandom\u001b[38;5;241m.\u001b[39muniform(\u001b[38;5;241m1.0\u001b[39m, \u001b[38;5;241m1.2\u001b[39m, size\u001b[38;5;241m=\u001b[39m\u001b[38;5;28mlen\u001b[39m(\u001b[38;5;28mself\u001b[39m\u001b[38;5;241m.\u001b[39mx2))\n\u001b[0;32m     39\u001b[0m a_ \u001b[38;5;241m=\u001b[39m np\u001b[38;5;241m.\u001b[39mlib\u001b[38;5;241m.\u001b[39mstride_tricks\u001b[38;5;241m.\u001b[39mas_strided(a, \u001b[38;5;28mself\u001b[39m\u001b[38;5;241m.\u001b[39mx2\u001b[38;5;241m.\u001b[39mshape, (a\u001b[38;5;241m.\u001b[39mstrides[\u001b[38;5;241m0\u001b[39m], \u001b[38;5;241m0\u001b[39m))\n",
      "\u001b[1;31mUnboundLocalError\u001b[0m: local variable 'x1' referenced before assignment"
     ]
    }
   ],
   "source": [
    "task = Task(3, 4, 5, 6, coord_bound=10.0)\n"
   ]
  },
  {
   "cell_type": "markdown",
   "id": "5e3b8976-c8ec-4a34-aec6-54ac861f2948",
   "metadata": {},
   "source": [
    "plant -> dc -> retailer -> customer"
   ]
  },
  {
   "cell_type": "code",
   "execution_count": 119,
   "id": "50a45ab3-b85b-4f0a-b7cd-6f4493f53aa7",
   "metadata": {},
   "outputs": [
    {
     "data": {
      "text/plain": [
       "array([[14.40664292, 15.4033247 , 15.45775114,  7.40064208,  8.54093714,\n",
       "         9.1037295 ],\n",
       "       [13.44483889, 16.48972453, 12.50039724,  7.389562  , 11.15491398,\n",
       "         4.90075492],\n",
       "       [ 4.59828959, 11.95946463,  2.80641694,  8.79226139, 14.03496122,\n",
       "        13.29049308]])"
      ]
     },
     "execution_count": 119,
     "metadata": {},
     "output_type": "execute_result"
    }
   ],
   "source": [
    "task.dist(task.plant_coords, task.customer_coords)"
   ]
  }
 ],
 "metadata": {
  "kernelspec": {
   "display_name": "Python 3 (ipykernel)",
   "language": "python",
   "name": "python3"
  },
  "language_info": {
   "codemirror_mode": {
    "name": "ipython",
    "version": 3
   },
   "file_extension": ".py",
   "mimetype": "text/x-python",
   "name": "python",
   "nbconvert_exporter": "python",
   "pygments_lexer": "ipython3",
   "version": "3.9.12"
  }
 },
 "nbformat": 4,
 "nbformat_minor": 5
}
