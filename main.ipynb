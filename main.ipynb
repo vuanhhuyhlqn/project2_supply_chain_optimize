{
 "cells": [
  {
   "cell_type": "code",
   "execution_count": 244,
   "id": "d981fa17-604d-4287-8291-82f883a59ba7",
   "metadata": {},
   "outputs": [],
   "source": [
    "import numpy as np\n",
    "import math\n",
    "import sys"
   ]
  },
  {
   "cell_type": "code",
   "execution_count": 245,
   "id": "6811c178-4574-4739-a2c8-cdd14dc72a8d",
   "metadata": {},
   "outputs": [],
   "source": [
    "np.random.seed(0)"
   ]
  },
  {
   "cell_type": "code",
   "execution_count": 261,
   "id": "c9279908-5f51-407b-8a65-79395af210e6",
   "metadata": {},
   "outputs": [],
   "source": [
    "class Task:\n",
    "    def __init__(self, num_plants, num_dcs, num_retailers, num_customers, coord_bound=1000):\n",
    "        self.num_plants = num_plants\n",
    "        self.num_dcs = num_dcs\n",
    "        self.num_retailers = num_retailers\n",
    "        self.num_customers = num_customers\n",
    "\n",
    "        #site coordinates\n",
    "        self.plant_coords = np.random.uniform(-coord_bound, coord_bound, size=(self.num_plants, 2))\n",
    "        self.dc_coords = np.random.uniform(-coord_bound, coord_bound, size=(self.num_dcs, 2))\n",
    "        self.retailer_coords = np.random.uniform(-coord_bound, coord_bound, size=(self.num_retailers, 2))\n",
    "        self.customer_coords = np.random.uniform(-coord_bound, coord_bound, size=(self.num_customers, 2))\n",
    "\n",
    "        #shipping cost\n",
    "        self.x1 = np.zeros((self.num_plants, self.num_dcs))\n",
    "        self.x2 = np.zeros((self.num_dcs, self.num_retailers))\n",
    "        self.x3 = np.zeros((self.num_retailers, self.num_customers))\n",
    "        self.x4 = np.zeros((self.num_plants, self.num_customers))\n",
    "        self.x5 = np.zeros((self.num_dcs, self.num_customers))\n",
    "        self.x6 = np.zeros((self.num_plants, self.num_retailers))\n",
    "\n",
    "        self.gen_cost()\n",
    "\n",
    "    def gen_cost(self, b_bound=10.0):\n",
    "        self.x1 = self.dist(self.plant_coords, self.dc_coords)\n",
    "        self.x2 = self.dist(self.dc_coords, self.retailer_coords)\n",
    "        self.x3 = self.dist(self.retailer_coords, self.customer_coords)\n",
    "        self.x4 = self.dist(self.plant_coords, self.customer_coords)\n",
    "        self.x5 = self.dist(self.dc_coords, self.customer_coords)\n",
    "        self.x6 = self.dist(self.plant_coords, self.retailer_coords)\n",
    "\n",
    "        #normal delivery\n",
    "        a = np.random.uniform(1.0, 1.2, size=len(self.x1))\n",
    "        a_ = np.lib.stride_tricks.as_strided(a, self.x1.shape, (a.strides[0], 0))\n",
    "        b = np.random.uniform(-b_bound, b_bound, size=self.x1.shape)\n",
    "        self.x1 = self.x1 * a_ + b\n",
    "\n",
    "        a = np.random.uniform(1.0, 1.2, size=len(self.x2))\n",
    "        a_ = np.lib.stride_tricks.as_strided(a, self.x2.shape, (a.strides[0], 0))\n",
    "        b = np.random.uniform(-b_bound, b_bound, size=self.x2.shape)\n",
    "        self.x2 = self.x2 * a_ + b\n",
    "\n",
    "        a = np.random.uniform(1.0, 1.2, size=len(self.x3))\n",
    "        a_ = np.lib.stride_tricks.as_strided(a, self.x3.shape, (a.strides[0], 0))\n",
    "        b = np.random.uniform(-b_bound, b_bound, size=self.x3.shape)\n",
    "        self.x3 = self.x3 * a_ + b\n",
    "\n",
    "        #direct shipment\n",
    "        a = np.random.uniform(1.2, 1.4, size=len(self.x4))\n",
    "        a_ = np.lib.stride_tricks.as_strided(a, self.x4.shape, (a.strides[0], 0))\n",
    "        b = np.random.uniform(-b_bound, b_bound, size=self.x4.shape)\n",
    "        self.x4 = self.x4 * a_ + b\n",
    "\n",
    "        a = np.random.uniform(1.2, 1.4, size=len(self.x6))\n",
    "        a_ = np.lib.stride_tricks.as_strided(a, self.x6.shape, (a.strides[0], 0))\n",
    "        b = np.random.uniform(-b_bound, b_bound, size=self.x6.shape)\n",
    "        self.x6 = self.x6 * a_ + b\n",
    "    \n",
    "        #direct delivery\n",
    "        a = np.random.uniform(1.4, 1.6, size=len(self.x5))\n",
    "        a_ = np.lib.stride_tricks.as_strided(a, self.x5.shape, (a.strides[0], 0))\n",
    "        b = np.random.uniform(-b_bound, b_bound, size=self.x5.shape)\n",
    "        self.x5 = self.x5 * a_ + b\n",
    "\n",
    "    def dist(self, site_a_coords, site_b_coords):\n",
    "        # def single_dist(a, b):\n",
    "        #     return math.sqrt(((a[0] - b[0]) ** 2) + ((a[1] - b[1]) ** 2))\n",
    "\n",
    "        # for i in range(len(site_a_coords)):\n",
    "        #     for j in range(len(site_b_coords)):\n",
    "        #         print(\"{0} \".format(single_dist(site_a_coords[i], site_b_coords[j])))\n",
    "        #     print(\"\")\n",
    "            \n",
    "        site_a_coords_x = site_a_coords[:, 0]\n",
    "        site_a_coords_y = site_a_coords[:, 1]\n",
    "        \n",
    "        site_b_coords_x = site_b_coords[:, 0]\n",
    "        site_b_coords_y = site_b_coords[:, 1]\n",
    "\n",
    "        dist_mat_shape = (site_a_coords.shape[0], site_b_coords.shape[0])\n",
    "\n",
    "        site_a_coords_x_ = np.lib.stride_tricks.as_strided(site_a_coords_x, dist_mat_shape, (16, 0))\n",
    "        site_b_coords_x_ = np.lib.stride_tricks.as_strided(site_b_coords_x, dist_mat_shape, (0, 16))\n",
    "        x_diffs = (site_a_coords_x_ - site_b_coords_x) ** 2\n",
    "\n",
    "        site_a_coords_y_ = np.lib.stride_tricks.as_strided(site_a_coords_y, dist_mat_shape, (16, 0))\n",
    "        site_b_coords_y_ = np.lib.stride_tricks.as_strided(site_b_coords_y, dist_mat_shape, (0, 16))\n",
    "        y_diffs = (site_a_coords_y_ - site_b_coords_y) ** 2\n",
    "        \n",
    "        dist_mat = np.sqrt(x_diffs + y_diffs)\n",
    "        return dist_mat\n",
    "\n",
    "    def single_unit_cost(self, indi):\n",
    "        assert(len(indi) == self.num_customers * 3)\n",
    "        print(indi.strides)\n",
    "        new_shape = (self.num_customers, 3)\n",
    "        new_strides = (indi.strides[0] * 3, indi.strides[0])\n",
    "        indi_ = np.lib.stride_tricks.as_strided(indi, new_shape, new_strides)\n",
    "        print(indi_)\n",
    "\n",
    "    def unit_cost(self, p):\n",
    "        new_shape = (len(p), self.num_customers, 3)\n",
    "        strides = p.strides\n",
    "        new_strides = (strides[0], strides[1] * 3, strides[1])\n",
    "        p_ = np.lib.stride_tricks.as_strided(p, new_shape, new_strides)\n",
    "        print(p_)\n",
    "                \n",
    "        "
   ]
  },
  {
   "cell_type": "code",
   "execution_count": 262,
   "id": "b52ed139-e881-4ba7-8c5b-74386cf19d2b",
   "metadata": {},
   "outputs": [],
   "source": [
    "task = Task(3, 4, 5, 5, coord_bound=100.0)\n"
   ]
  },
  {
   "cell_type": "markdown",
   "id": "5e3b8976-c8ec-4a34-aec6-54ac861f2948",
   "metadata": {},
   "source": [
    "plant -> dc -> retailer -> customer"
   ]
  },
  {
   "cell_type": "code",
   "execution_count": 231,
   "id": "50a45ab3-b85b-4f0a-b7cd-6f4493f53aa7",
   "metadata": {},
   "outputs": [
    {
     "data": {
      "text/plain": [
       "array([[ 92.60560463, 127.40286119, 116.12066018,  72.61056188,\n",
       "        129.82625268],\n",
       "       [126.24351694,  66.54708166, 100.96854952,  53.42789345,\n",
       "        144.79264841],\n",
       "       [ 24.68073749, 193.523666  , 198.26452008,  93.02451417,\n",
       "        220.09798087]])"
      ]
     },
     "execution_count": 231,
     "metadata": {},
     "output_type": "execute_result"
    }
   ],
   "source": [
    "task.dist(task.plant_coords, task.customer_coords)"
   ]
  },
  {
   "cell_type": "code",
   "execution_count": 263,
   "id": "abcca5a0-1ce5-4e23-abf2-376c8e695f70",
   "metadata": {},
   "outputs": [
    {
     "name": "stdout",
     "output_type": "stream",
     "text": [
      "(60, 4)\n",
      "[[13  8  4  5 10  8  1  1  2  9  4  6 11  1  2]\n",
      " [11  2  4  8 10 14  4  8  1  3  5 14 11  5  7]\n",
      " [ 1  2  8  7  6  6  8 12  4 12  7  9  9 14 13]]\n",
      "[[[13  8  4]\n",
      "  [ 5 10  8]\n",
      "  [ 1  1  2]\n",
      "  [ 9  4  6]\n",
      "  [11  1  2]]\n",
      "\n",
      " [[11  2  4]\n",
      "  [ 8 10 14]\n",
      "  [ 4  8  1]\n",
      "  [ 3  5 14]\n",
      "  [11  5  7]]\n",
      "\n",
      " [[ 1  2  8]\n",
      "  [ 7  6  6]\n",
      "  [ 8 12  4]\n",
      "  [12  7  9]\n",
      "  [ 9 14 13]]]\n"
     ]
    }
   ],
   "source": [
    "test_indi = np.random.randint(1, 15, size=(3, task.num_customers*3))\n",
    "print(test_indi.strides)\n",
    "print(test_indi)\n",
    "task.unit_cost(test_indi)"
   ]
  }
 ],
 "metadata": {
  "kernelspec": {
   "display_name": "Python 3 (ipykernel)",
   "language": "python",
   "name": "python3"
  },
  "language_info": {
   "codemirror_mode": {
    "name": "ipython",
    "version": 3
   },
   "file_extension": ".py",
   "mimetype": "text/x-python",
   "name": "python",
   "nbconvert_exporter": "python",
   "pygments_lexer": "ipython3",
   "version": "3.9.12"
  }
 },
 "nbformat": 4,
 "nbformat_minor": 5
}
