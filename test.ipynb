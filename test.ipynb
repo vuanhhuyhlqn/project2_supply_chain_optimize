{
 "cells": [
  {
   "cell_type": "code",
   "execution_count": 8,
   "id": "7391dbf4",
   "metadata": {},
   "outputs": [],
   "source": [
    "%load_ext autoreload\n",
    "%autoreload 2\n",
    "import numpy as np\n",
    "from entity import Entity\n",
    "from task import Task\n",
    "from plant import Plant\n",
    "from dc import DC\n",
    "from retailer import Retailer\n",
    "from customer import Customer\n",
    "from indi import Individual"
   ]
  },
  {
   "cell_type": "code",
   "execution_count": 24,
   "id": "1d19c282",
   "metadata": {},
   "outputs": [],
   "source": [
    "task = Task(3, 4, 5, 6)"
   ]
  },
  {
   "cell_type": "code",
   "execution_count": 25,
   "id": "eeacba9b",
   "metadata": {},
   "outputs": [],
   "source": [
    "indi = Individual(task)"
   ]
  },
  {
   "cell_type": "code",
   "execution_count": 26,
   "id": "2c073e9c",
   "metadata": {},
   "outputs": [
    {
     "name": "stdout",
     "output_type": "stream",
     "text": [
      "Customer 0:\n",
      "Plant 2 -> DC 2 -> Retailer 1\n",
      "Customer 1:\n",
      "Plant 1 -> DC 2 -> Retailer 1\n",
      "Customer 2:\n",
      "Plant 0 -> DC 2 -> Retailer 1\n",
      "Customer 3:\n",
      "Plant 1 -> DC 2 -> Retailer 1\n",
      "Customer 4:\n",
      "Plant 1 -> DC 1 -> Retailer 3\n",
      "Customer 5:\n",
      "Plant 2 -> DC 3 -> Retailer 2\n",
      "\n"
     ]
    }
   ],
   "source": [
    "print(indi)"
   ]
  }
 ],
 "metadata": {
  "kernelspec": {
   "display_name": "base",
   "language": "python",
   "name": "python3"
  },
  "language_info": {
   "codemirror_mode": {
    "name": "ipython",
    "version": 3
   },
   "file_extension": ".py",
   "mimetype": "text/x-python",
   "name": "python",
   "nbconvert_exporter": "python",
   "pygments_lexer": "ipython3",
   "version": "3.12.9"
  }
 },
 "nbformat": 4,
 "nbformat_minor": 5
}
