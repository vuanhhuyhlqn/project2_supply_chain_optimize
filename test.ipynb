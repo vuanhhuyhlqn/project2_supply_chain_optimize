{
 "cells": [
  {
   "cell_type": "code",
   "execution_count": 162,
   "id": "7391dbf4",
   "metadata": {},
   "outputs": [
    {
     "name": "stdout",
     "output_type": "stream",
     "text": [
      "The autoreload extension is already loaded. To reload it, use:\n",
      "  %reload_ext autoreload\n"
     ]
    }
   ],
   "source": [
    "%load_ext autoreload\n",
    "%autoreload 2\n",
    "import numpy as np\n",
    "from entity import Entity\n",
    "from task import Task\n",
    "from plant import Plant\n",
    "from dc import DC\n",
    "from retailer import Retailer\n",
    "from customer import Customer\n",
    "from indi import Individual\n",
    "from crossover import *\n",
    "from mutation import *"
   ]
  },
  {
   "cell_type": "code",
   "execution_count": 163,
   "id": "1d19c282",
   "metadata": {},
   "outputs": [],
   "source": [
    "task = Task(3, 5, 5, 6)"
   ]
  },
  {
   "cell_type": "code",
   "execution_count": 164,
   "id": "fa92fc01",
   "metadata": {},
   "outputs": [],
   "source": [
    "for _ in range(task.num_plants):\n",
    "\tcoord_x, coord_y = np.random.randint(0, 10), np.random.randint(0, 10)\n",
    "\toutput = np.random.randint(0, 1000)\n",
    "\ttask.lst_plants.append(Plant(coord_x, coord_y, output))\n",
    "for _ in range(task.num_dcs):\n",
    "\tcoord_x, coord_y = np.random.randint(0, 10), np.random.randint(0, 10)\n",
    "\tcapacity = np.random.randint(0, 100)\n",
    "\tlease_cost = np.random.randint(100)\n",
    "\topen_cost = np.random.randint(100)\n",
    "\ttask.lst_dcs.append(DC(coord_x, coord_y, capacity, lease_cost, open_cost))\n",
    "for _ in range(task.num_retailers):\n",
    "\tcoord_x, coord_y = np.random.randint(0, 10), np.random.randint(0, 10)\n",
    "\tcapacity = np.random.randint(0, 100)\n",
    "\tlease_cost = np.random.randint(100)\n",
    "\topen_cost = np.random.randint(100)\n",
    "\ttask.lst_retailers.append(Retailer(coord_x, coord_y, capacity, lease_cost, open_cost))\n",
    "for _ in range(task.num_customers):\n",
    "\tcoord_x, coord_y = np.random.randint(0, 10), np.random.randint(0, 10)\n",
    "\tdemand = np.random.randint(0, 10)\n",
    "\ttask.lst_customers.append(Customer(coord_x, coord_y, demand))"
   ]
  },
  {
   "cell_type": "code",
   "execution_count": 165,
   "id": "809cd943",
   "metadata": {},
   "outputs": [
    {
     "name": "stdout",
     "output_type": "stream",
     "text": [
      "(3, 6)\n",
      "output: 305\n",
      "(1, 9)\n",
      "output: 245\n",
      "(8, 0)\n",
      "output: 93\n"
     ]
    }
   ],
   "source": [
    "for p in task.lst_plants:\n",
    "    print(p)"
   ]
  },
  {
   "cell_type": "code",
   "execution_count": 166,
   "id": "c928ee2f",
   "metadata": {},
   "outputs": [
    {
     "name": "stdout",
     "output_type": "stream",
     "text": [
      "(2, 3)\n",
      "capacity: 20\n",
      "lease cost: 3\n",
      "open cost: 73\n",
      "(7, 9)\n",
      "capacity: 48\n",
      "lease cost: 8\n",
      "open cost: 93\n",
      "(1, 6)\n",
      "capacity: 98\n",
      "lease cost: 0\n",
      "open cost: 43\n",
      "(5, 5)\n",
      "capacity: 70\n",
      "lease cost: 76\n",
      "open cost: 30\n",
      "(8, 7)\n",
      "capacity: 24\n",
      "lease cost: 16\n",
      "open cost: 24\n"
     ]
    }
   ],
   "source": [
    "for dc in task.lst_dcs:\n",
    "    print(dc)"
   ]
  },
  {
   "cell_type": "code",
   "execution_count": 167,
   "id": "516e3b30",
   "metadata": {},
   "outputs": [
    {
     "name": "stdout",
     "output_type": "stream",
     "text": [
      "(7, 2)\n",
      "capacity: 1\n",
      "lease cost: 68\n",
      "open cost: 95\n",
      "(6, 5)\n",
      "capacity: 69\n",
      "lease cost: 69\n",
      "open cost: 68\n",
      "(7, 2)\n",
      "capacity: 49\n",
      "lease cost: 15\n",
      "open cost: 57\n",
      "(5, 2)\n",
      "capacity: 39\n",
      "lease cost: 98\n",
      "open cost: 97\n",
      "(6, 7)\n",
      "capacity: 2\n",
      "lease cost: 98\n",
      "open cost: 56\n"
     ]
    }
   ],
   "source": [
    "for rt in task.lst_retailers:\n",
    "    print(rt)"
   ]
  },
  {
   "cell_type": "code",
   "execution_count": 168,
   "id": "86eedfcd",
   "metadata": {},
   "outputs": [
    {
     "name": "stdout",
     "output_type": "stream",
     "text": [
      "(1, 5)\n",
      "demand: 1\n",
      "(1, 6)\n",
      "demand: 3\n",
      "(0, 5)\n",
      "demand: 4\n",
      "(9, 2)\n",
      "demand: 8\n",
      "(9, 3)\n",
      "demand: 3\n",
      "(2, 4)\n",
      "demand: 1\n"
     ]
    }
   ],
   "source": [
    "for ct in task.lst_customers:\n",
    "    print(ct)"
   ]
  },
  {
   "cell_type": "code",
   "execution_count": 169,
   "id": "eeacba9b",
   "metadata": {},
   "outputs": [],
   "source": [
    "indi = Individual(task)"
   ]
  },
  {
   "cell_type": "code",
   "execution_count": 170,
   "id": "2c073e9c",
   "metadata": {},
   "outputs": [
    {
     "name": "stdout",
     "output_type": "stream",
     "text": [
      "Customer 0:\n",
      "Plant 1 -> DC 1 -> Retailer 3\n",
      "Customer 1:\n",
      "Plant 1 -> DC 1 -> Retailer 1\n",
      "Customer 2:\n",
      "Plant 1 -> DC 0 -> Retailer 1\n",
      "Customer 3:\n",
      "Plant 2 -> DC 1 -> Retailer 0\n",
      "Customer 4:\n",
      "Plant 1 -> DC 1 -> Retailer 1\n",
      "Customer 5:\n",
      "Plant 2 -> DC 2 -> Retailer 0\n",
      "\n"
     ]
    }
   ],
   "source": [
    "print(indi)"
   ]
  },
  {
   "cell_type": "code",
   "execution_count": 171,
   "id": "78c90804",
   "metadata": {},
   "outputs": [
    {
     "name": "stdout",
     "output_type": "stream",
     "text": [
      "Retailer 0 capacity violated!\n",
      "Customer 0:\n",
      "Plant 1 -> DC 1 -> Retailer 3\n",
      "Customer 1:\n",
      "Plant 1 -> DC 1 -> Retailer 1\n",
      "Customer 2:\n",
      "Plant 2 -> DC 1 -> Retailer 0\n",
      "Customer 3:\n",
      "Plant 1 -> DC 0 -> Retailer 1\n",
      "Customer 4:\n",
      "Plant 1 -> DC 1 -> Retailer 1\n",
      "Customer 5:\n",
      "Plant 2 -> DC 2 -> Retailer 0\n",
      "\n"
     ]
    }
   ],
   "source": [
    "mut = InsertionMutation()\n",
    "print(mut(indi))"
   ]
  },
  {
   "cell_type": "code",
   "execution_count": 172,
   "id": "90964dfb",
   "metadata": {},
   "outputs": [
    {
     "name": "stdout",
     "output_type": "stream",
     "text": [
      "9\n",
      "15\n",
      "[0 3 2 1 1 4 2 4 4 2 2 0 2 1 0 2 2 2]\n",
      "[2 1 1 0 0 2 0 1 4 0 1 4 2 3 2 2 2 2]\n",
      "[0 3 2 1 1 4 2 4 4 0 1 4 2 3 2 2 2 2]\n",
      "Retailer 4 capacity violated!\n"
     ]
    }
   ],
   "source": [
    "cross = TwoCutCrossover()\n",
    "pa = Individual(task)\n",
    "pb = Individual(task)\n",
    "off = cross(pa, pb)"
   ]
  },
  {
   "cell_type": "code",
   "execution_count": 173,
   "id": "e0aeb409",
   "metadata": {},
   "outputs": [
    {
     "name": "stdout",
     "output_type": "stream",
     "text": [
      "Customer 0:\n",
      "Plant 0 -> DC 3 -> Retailer 2\n",
      "Customer 1:\n",
      "Plant 1 -> DC 1 -> Retailer 4\n",
      "Customer 2:\n",
      "Plant 2 -> DC 4 -> Retailer 4\n",
      "Customer 3:\n",
      "Plant 2 -> DC 2 -> Retailer 0\n",
      "Customer 4:\n",
      "Plant 2 -> DC 1 -> Retailer 0\n",
      "Customer 5:\n",
      "Plant 2 -> DC 2 -> Retailer 2\n",
      "\n",
      "Customer 0:\n",
      "Plant 2 -> DC 1 -> Retailer 1\n",
      "Customer 1:\n",
      "Plant 0 -> DC 0 -> Retailer 2\n",
      "Customer 2:\n",
      "Plant 0 -> DC 1 -> Retailer 4\n",
      "Customer 3:\n",
      "Plant 0 -> DC 1 -> Retailer 4\n",
      "Customer 4:\n",
      "Plant 2 -> DC 3 -> Retailer 2\n",
      "Customer 5:\n",
      "Plant 2 -> DC 2 -> Retailer 2\n",
      "\n",
      "Customer 0:\n",
      "Plant 0 -> DC 3 -> Retailer 2\n",
      "Customer 1:\n",
      "Plant 1 -> DC 1 -> Retailer 4\n",
      "Customer 2:\n",
      "Plant 2 -> DC 4 -> Retailer 4\n",
      "Customer 3:\n",
      "Plant 0 -> DC 1 -> Retailer 4\n",
      "Customer 4:\n",
      "Plant 2 -> DC 3 -> Retailer 2\n",
      "Customer 5:\n",
      "Plant 2 -> DC 2 -> Retailer 2\n",
      "\n"
     ]
    }
   ],
   "source": [
    "print(pa)\n",
    "print(pb)\n",
    "print(off)"
   ]
  }
 ],
 "metadata": {
  "kernelspec": {
   "display_name": "base",
   "language": "python",
   "name": "python3"
  },
  "language_info": {
   "codemirror_mode": {
    "name": "ipython",
    "version": 3
   },
   "file_extension": ".py",
   "mimetype": "text/x-python",
   "name": "python",
   "nbconvert_exporter": "python",
   "pygments_lexer": "ipython3",
   "version": "3.12.9"
  }
 },
 "nbformat": 4,
 "nbformat_minor": 5
}
