{
 "cells": [
  {
   "cell_type": "code",
   "execution_count": 8,
   "id": "7391dbf4",
   "metadata": {},
   "outputs": [],
   "source": [
    "%load_ext autoreload\n",
    "%autoreload 2\n",
    "import numpy as np\n",
    "from entity import Entity\n",
    "from task import Task\n",
    "from plant import Plant\n",
    "from dc import DC\n",
    "from retailer import Retailer\n",
    "from customer import Customer\n",
    "from indi import Individual"
   ]
  },
  {
   "cell_type": "code",
   "execution_count": 9,
   "id": "1d19c282",
   "metadata": {},
   "outputs": [],
   "source": [
    "task = Task(3, 4, 5, 6)"
   ]
  },
  {
   "cell_type": "code",
   "execution_count": 22,
   "id": "eeacba9b",
   "metadata": {},
   "outputs": [],
   "source": [
    "indi = Individual(task)"
   ]
  },
  {
   "cell_type": "code",
   "execution_count": 23,
   "id": "2c073e9c",
   "metadata": {},
   "outputs": [
    {
     "name": "stdout",
     "output_type": "stream",
     "text": [
      "Customer 0:\n",
      "0 -> 2 -> 4\n",
      "Customer 1:\n",
      "2 -> 0 -> 2\n",
      "Customer 2:\n",
      "0 -> 2 -> 1\n",
      "Customer 3:\n",
      "0 -> 3 -> 0\n",
      "Customer 4:\n",
      "0 -> 2 -> 2\n",
      "Customer 5:\n",
      "2 -> 0 -> 1\n",
      "\n"
     ]
    }
   ],
   "source": [
    "print(indi)"
   ]
  }
 ],
 "metadata": {
  "kernelspec": {
   "display_name": "base",
   "language": "python",
   "name": "python3"
  },
  "language_info": {
   "codemirror_mode": {
    "name": "ipython",
    "version": 3
   },
   "file_extension": ".py",
   "mimetype": "text/x-python",
   "name": "python",
   "nbconvert_exporter": "python",
   "pygments_lexer": "ipython3",
   "version": "3.12.9"
  }
 },
 "nbformat": 4,
 "nbformat_minor": 5
}
