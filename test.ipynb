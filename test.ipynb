{
 "cells": [
  {
   "cell_type": "code",
   "execution_count": 52,
   "id": "7391dbf4",
   "metadata": {},
   "outputs": [
    {
     "name": "stdout",
     "output_type": "stream",
     "text": [
      "The autoreload extension is already loaded. To reload it, use:\n",
      "  %reload_ext autoreload\n"
     ]
    }
   ],
   "source": [
    "%load_ext autoreload\n",
    "%autoreload 2\n",
    "import numpy as np\n",
    "from entity import Entity\n",
    "from task import Task\n",
    "from plant import Plant\n",
    "from dc import DC\n",
    "from retailer import Retailer\n",
    "from customer import Customer\n",
    "from indi import Individual\n",
    "from crossover import *\n",
    "from mutation import *"
   ]
  },
  {
   "cell_type": "code",
   "execution_count": 53,
   "id": "1d19c282",
   "metadata": {},
   "outputs": [],
   "source": [
    "task = Task(3, 5, 5, 6)"
   ]
  },
  {
   "cell_type": "code",
   "execution_count": 54,
   "id": "fa92fc01",
   "metadata": {},
   "outputs": [],
   "source": [
    "for _ in range(task.num_plants):\n",
    "\tcoord_x, coord_y = np.random.randint(0, 10), np.random.randint(0, 10)\n",
    "\toutput = np.random.randint(0, 1000)\n",
    "\ttask.lst_plants.append(Plant(coord_x, coord_y, output))\n",
    "for _ in range(task.num_dcs):\n",
    "\tcoord_x, coord_y = np.random.randint(0, 10), np.random.randint(0, 10)\n",
    "\tcapacity = np.random.randint(0, 100)\n",
    "\tlease_cost = np.random.randint(100)\n",
    "\topen_cost = np.random.randint(100)\n",
    "\ttask.lst_dcs.append(DC(coord_x, coord_y, capacity, lease_cost, open_cost))\n",
    "for _ in range(task.num_retailers):\n",
    "\tcoord_x, coord_y = np.random.randint(0, 10), np.random.randint(0, 10)\n",
    "\tcapacity = np.random.randint(0, 100)\n",
    "\tlease_cost = np.random.randint(100)\n",
    "\topen_cost = np.random.randint(100)\n",
    "\ttask.lst_retailers.append(Retailer(coord_x, coord_y, capacity, lease_cost, open_cost))\n",
    "for _ in range(task.num_customers):\n",
    "\tcoord_x, coord_y = np.random.randint(0, 10), np.random.randint(0, 10)\n",
    "\tdemand = np.random.randint(0, 10)\n",
    "\ttask.lst_customers.append(Customer(coord_x, coord_y, demand))"
   ]
  },
  {
   "cell_type": "code",
   "execution_count": 55,
   "id": "809cd943",
   "metadata": {},
   "outputs": [
    {
     "name": "stdout",
     "output_type": "stream",
     "text": [
      "(9, 7)\n",
      "output: 334\n",
      "(9, 5)\n",
      "output: 813\n",
      "(8, 1)\n",
      "output: 807\n"
     ]
    }
   ],
   "source": [
    "for p in task.lst_plants:\n",
    "    print(p)"
   ]
  },
  {
   "cell_type": "code",
   "execution_count": 56,
   "id": "c928ee2f",
   "metadata": {},
   "outputs": [
    {
     "name": "stdout",
     "output_type": "stream",
     "text": [
      "(7, 3)\n",
      "capacity: 80\n",
      "lease cost: 52\n",
      "open cost: 81\n",
      "(9, 2)\n",
      "capacity: 80\n",
      "lease cost: 56\n",
      "open cost: 70\n",
      "(0, 1)\n",
      "capacity: 55\n",
      "lease cost: 2\n",
      "open cost: 97\n",
      "(2, 3)\n",
      "capacity: 44\n",
      "lease cost: 29\n",
      "open cost: 35\n",
      "(8, 6)\n",
      "capacity: 73\n",
      "lease cost: 28\n",
      "open cost: 53\n"
     ]
    }
   ],
   "source": [
    "for dc in task.lst_dcs:\n",
    "    print(dc)"
   ]
  },
  {
   "cell_type": "code",
   "execution_count": 57,
   "id": "516e3b30",
   "metadata": {},
   "outputs": [
    {
     "name": "stdout",
     "output_type": "stream",
     "text": [
      "(8, 5)\n",
      "capacity: 98\n",
      "lease cost: 18\n",
      "open cost: 39\n",
      "(0, 7)\n",
      "capacity: 44\n",
      "lease cost: 41\n",
      "open cost: 5\n",
      "(8, 6)\n",
      "capacity: 99\n",
      "lease cost: 97\n",
      "open cost: 75\n",
      "(0, 7)\n",
      "capacity: 12\n",
      "lease cost: 49\n",
      "open cost: 1\n",
      "(6, 7)\n",
      "capacity: 57\n",
      "lease cost: 80\n",
      "open cost: 3\n"
     ]
    }
   ],
   "source": [
    "for rt in task.lst_retailers:\n",
    "    print(rt)"
   ]
  },
  {
   "cell_type": "code",
   "execution_count": 58,
   "id": "86eedfcd",
   "metadata": {},
   "outputs": [
    {
     "name": "stdout",
     "output_type": "stream",
     "text": [
      "(1, 6)\n",
      "demand: 6\n",
      "(6, 8)\n",
      "demand: 6\n",
      "(0, 4)\n",
      "demand: 7\n",
      "(9, 8)\n",
      "demand: 9\n",
      "(8, 7)\n",
      "demand: 0\n",
      "(0, 3)\n",
      "demand: 3\n"
     ]
    }
   ],
   "source": [
    "for ct in task.lst_customers:\n",
    "    print(ct)"
   ]
  },
  {
   "cell_type": "code",
   "execution_count": 59,
   "id": "eeacba9b",
   "metadata": {},
   "outputs": [],
   "source": [
    "indi = Individual(task)"
   ]
  },
  {
   "cell_type": "code",
   "execution_count": 60,
   "id": "2c073e9c",
   "metadata": {},
   "outputs": [
    {
     "name": "stdout",
     "output_type": "stream",
     "text": [
      "Customer 0:\n",
      "Plant 1 -> DC 1 -> Retailer 2\n",
      "Customer 1:\n",
      "Plant 1 -> DC 3 -> Retailer 2\n",
      "Customer 2:\n",
      "Plant 0 -> DC 3 -> Retailer 3\n",
      "Customer 3:\n",
      "Plant 0 -> DC 2 -> Retailer 1\n",
      "Customer 4:\n",
      "Plant 0 -> DC 3 -> Retailer 3\n",
      "Customer 5:\n",
      "Plant 0 -> DC 4 -> Retailer 1\n",
      "\n"
     ]
    }
   ],
   "source": [
    "print(indi)"
   ]
  },
  {
   "cell_type": "code",
   "execution_count": 61,
   "id": "78c90804",
   "metadata": {},
   "outputs": [
    {
     "name": "stdout",
     "output_type": "stream",
     "text": [
      "Retailer 3 capacity violated!\n",
      "Customer 0:\n",
      "Plant 1 -> DC 1 -> Retailer 2\n",
      "Customer 1:\n",
      "Plant 1 -> DC 3 -> Retailer 2\n",
      "Customer 2:\n",
      "Plant 0 -> DC 3 -> Retailer 3\n",
      "Customer 3:\n",
      "Plant 0 -> DC 3 -> Retailer 3\n",
      "Customer 4:\n",
      "Plant 0 -> DC 2 -> Retailer 1\n",
      "Customer 5:\n",
      "Plant 0 -> DC 4 -> Retailer 1\n",
      "\n"
     ]
    }
   ],
   "source": [
    "mut = InsertionMutation()\n",
    "print(mut(indi))"
   ]
  }
 ],
 "metadata": {
  "kernelspec": {
   "display_name": "base",
   "language": "python",
   "name": "python3"
  },
  "language_info": {
   "codemirror_mode": {
    "name": "ipython",
    "version": 3
   },
   "file_extension": ".py",
   "mimetype": "text/x-python",
   "name": "python",
   "nbconvert_exporter": "python",
   "pygments_lexer": "ipython3",
   "version": "3.12.9"
  }
 },
 "nbformat": 4,
 "nbformat_minor": 5
}
