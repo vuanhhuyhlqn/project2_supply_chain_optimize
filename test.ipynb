{
 "cells": [
  {
   "cell_type": "code",
   "execution_count": 8,
   "id": "7391dbf4",
   "metadata": {},
   "outputs": [],
   "source": [
    "%load_ext autoreload\n",
    "%autoreload 2\n",
    "import numpy as np\n",
    "from entity import Entity\n",
    "from task import Task\n",
    "from plant import Plant\n",
    "from dc import DC\n",
    "from retailer import Retailer\n",
    "from customer import Customer\n",
    "from indi import Individual"
   ]
  },
  {
   "cell_type": "code",
   "execution_count": 41,
   "id": "1d19c282",
   "metadata": {},
   "outputs": [],
   "source": [
    "task = Task(3, 4, 5, 6)"
   ]
  },
  {
   "cell_type": "code",
   "execution_count": 43,
   "id": "fa92fc01",
   "metadata": {},
   "outputs": [],
   "source": [
    "for _ in range(task.num_plants):\n",
    "\tcoord_x, coord_y = np.random.randint(0, 10), np.random.randint(0, 10)\n",
    "\toutput = np.random.randint(0, 100)\n",
    "\ttask.lst_plants.append(Plant(coord_x, coord_y, output))\n",
    "for _ in range(task.num_dcs):\n",
    "\tcoord_x, coord_y = np.random.randint(0, 10), np.random.randint(0, 10)\n",
    "\tcapacity = np.random.randint(0, 100)\n",
    "\ttask.lst_dcs.append(DC(coord_x, coord_y, capacity))\n",
    "for _ in range(task.num_retailers):\n",
    "\tcoord_x, coord_y = np.random.randint(0, 10), np.random.randint(0, 10)\n",
    "\tcapacity = np.random.randint(0, 100)\n",
    "\ttask.lst_retailers.append(Retailer(coord_x, coord_y, capacity))\n",
    "for _ in range(task.num_customers):\n",
    "\tcoord_x, coord_y = np.random.randint(0, 10), np.random.randint(0, 10)\n",
    "\tdemand = np.random.randint(0, 100)\n",
    "\ttask.lst_customers.append(Customer(coord_x, coord_y, demand))"
   ]
  },
  {
   "cell_type": "code",
   "execution_count": 49,
   "id": "809cd943",
   "metadata": {},
   "outputs": [
    {
     "name": "stdout",
     "output_type": "stream",
     "text": [
      "(4, 2)\n",
      "output: 69\n",
      "(0, 2)\n",
      "output: 54\n",
      "(1, 4)\n",
      "output: 27\n"
     ]
    }
   ],
   "source": [
    "for p in task.lst_plants:\n",
    "    print(p)"
   ]
  },
  {
   "cell_type": "code",
   "execution_count": 50,
   "id": "c928ee2f",
   "metadata": {},
   "outputs": [
    {
     "name": "stdout",
     "output_type": "stream",
     "text": [
      "(4, 0)\n",
      "capacity: 76\n",
      "(5, 6)\n",
      "capacity: 21\n",
      "(9, 4)\n",
      "capacity: 74\n",
      "(9, 0)\n",
      "capacity: 49\n"
     ]
    }
   ],
   "source": [
    "for dc in task.lst_dcs:\n",
    "    print(dc)"
   ]
  },
  {
   "cell_type": "code",
   "execution_count": 51,
   "id": "516e3b30",
   "metadata": {},
   "outputs": [
    {
     "name": "stdout",
     "output_type": "stream",
     "text": [
      "(0, 7)\n",
      "capacity: 8\n",
      "(7, 9)\n",
      "capacity: 26\n",
      "(7, 0)\n",
      "capacity: 75\n",
      "(9, 8)\n",
      "capacity: 57\n",
      "(0, 7)\n",
      "capacity: 62\n"
     ]
    }
   ],
   "source": [
    "for rt in task.lst_retailers:\n",
    "    print(rt)"
   ]
  },
  {
   "cell_type": "code",
   "execution_count": 53,
   "id": "86eedfcd",
   "metadata": {},
   "outputs": [
    {
     "name": "stdout",
     "output_type": "stream",
     "text": [
      "(3, 6)\n",
      "demand: 55\n",
      "(8, 6)\n",
      "demand: 9\n",
      "(8, 9)\n",
      "demand: 24\n",
      "(3, 7)\n",
      "demand: 20\n",
      "(6, 1)\n",
      "demand: 41\n",
      "(6, 5)\n",
      "demand: 47\n"
     ]
    }
   ],
   "source": [
    "for ct in task.lst_customers:\n",
    "    print(ct)"
   ]
  },
  {
   "cell_type": "code",
   "execution_count": 35,
   "id": "eeacba9b",
   "metadata": {},
   "outputs": [],
   "source": [
    "indi = Individual(task)"
   ]
  },
  {
   "cell_type": "code",
   "execution_count": 26,
   "id": "2c073e9c",
   "metadata": {},
   "outputs": [
    {
     "name": "stdout",
     "output_type": "stream",
     "text": [
      "Customer 0:\n",
      "Plant 2 -> DC 2 -> Retailer 1\n",
      "Customer 1:\n",
      "Plant 1 -> DC 2 -> Retailer 1\n",
      "Customer 2:\n",
      "Plant 0 -> DC 2 -> Retailer 1\n",
      "Customer 3:\n",
      "Plant 1 -> DC 2 -> Retailer 1\n",
      "Customer 4:\n",
      "Plant 1 -> DC 1 -> Retailer 3\n",
      "Customer 5:\n",
      "Plant 2 -> DC 3 -> Retailer 2\n",
      "\n"
     ]
    }
   ],
   "source": [
    "print(indi)"
   ]
  },
  {
   "cell_type": "code",
   "execution_count": null,
   "id": "78c90804",
   "metadata": {},
   "outputs": [],
   "source": []
  }
 ],
 "metadata": {
  "kernelspec": {
   "display_name": "base",
   "language": "python",
   "name": "python3"
  },
  "language_info": {
   "codemirror_mode": {
    "name": "ipython",
    "version": 3
   },
   "file_extension": ".py",
   "mimetype": "text/x-python",
   "name": "python",
   "nbconvert_exporter": "python",
   "pygments_lexer": "ipython3",
   "version": "3.12.9"
  }
 },
 "nbformat": 4,
 "nbformat_minor": 5
}
