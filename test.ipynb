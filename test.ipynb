{
 "cells": [
  {
   "cell_type": "code",
   "execution_count": null,
   "id": "7391dbf4",
   "metadata": {},
   "outputs": [
    {
     "name": "stdout",
     "output_type": "stream",
     "text": [
      "The autoreload extension is already loaded. To reload it, use:\n",
      "  %reload_ext autoreload\n"
     ]
    }
   ],
   "source": [
    "%load_ext autoreload\n",
    "%autoreload 2\n",
    "import numpy as np\n",
    "from entity import Entity\n",
    "from task import Task\n",
    "from plant import Plant\n",
    "from dc import DC\n",
    "from retailer import Retailer\n",
    "from customer import Customer\n",
    "from indi import Individual\n",
    "from crossover import *"
   ]
  },
  {
   "cell_type": "code",
   "execution_count": 367,
   "id": "1d19c282",
   "metadata": {},
   "outputs": [],
   "source": [
    "task = Task(3, 5, 5, 6)"
   ]
  },
  {
   "cell_type": "code",
   "execution_count": 368,
   "id": "fa92fc01",
   "metadata": {},
   "outputs": [],
   "source": [
    "for _ in range(task.num_plants):\n",
    "\tcoord_x, coord_y = np.random.randint(0, 10), np.random.randint(0, 10)\n",
    "\toutput = np.random.randint(0, 1000)\n",
    "\ttask.lst_plants.append(Plant(coord_x, coord_y, output))\n",
    "for _ in range(task.num_dcs):\n",
    "\tcoord_x, coord_y = np.random.randint(0, 10), np.random.randint(0, 10)\n",
    "\tcapacity = np.random.randint(0, 100)\n",
    "\ttask.lst_dcs.append(DC(coord_x, coord_y, capacity))\n",
    "for _ in range(task.num_retailers):\n",
    "\tcoord_x, coord_y = np.random.randint(0, 10), np.random.randint(0, 10)\n",
    "\tcapacity = np.random.randint(0, 100)\n",
    "\ttask.lst_retailers.append(Retailer(coord_x, coord_y, capacity))\n",
    "for _ in range(task.num_customers):\n",
    "\tcoord_x, coord_y = np.random.randint(0, 10), np.random.randint(0, 10)\n",
    "\tdemand = np.random.randint(0, 10)\n",
    "\ttask.lst_customers.append(Customer(coord_x, coord_y, demand))"
   ]
  },
  {
   "cell_type": "code",
   "execution_count": 369,
   "id": "809cd943",
   "metadata": {},
   "outputs": [
    {
     "name": "stdout",
     "output_type": "stream",
     "text": [
      "(0, 3)\n",
      "output: 496\n",
      "(1, 2)\n",
      "output: 821\n",
      "(7, 7)\n",
      "output: 681\n"
     ]
    }
   ],
   "source": [
    "for p in task.lst_plants:\n",
    "    print(p)"
   ]
  },
  {
   "cell_type": "code",
   "execution_count": 370,
   "id": "c928ee2f",
   "metadata": {},
   "outputs": [
    {
     "name": "stdout",
     "output_type": "stream",
     "text": [
      "(3, 3)\n",
      "capacity: 43\n",
      "(2, 3)\n",
      "capacity: 88\n",
      "(4, 8)\n",
      "capacity: 30\n",
      "(8, 4)\n",
      "capacity: 86\n",
      "(0, 3)\n",
      "capacity: 51\n"
     ]
    }
   ],
   "source": [
    "for dc in task.lst_dcs:\n",
    "    print(dc)"
   ]
  },
  {
   "cell_type": "code",
   "execution_count": 371,
   "id": "516e3b30",
   "metadata": {},
   "outputs": [
    {
     "name": "stdout",
     "output_type": "stream",
     "text": [
      "(4, 9)\n",
      "capacity: 91\n",
      "(3, 7)\n",
      "capacity: 12\n",
      "(5, 9)\n",
      "capacity: 47\n",
      "(7, 0)\n",
      "capacity: 79\n",
      "(0, 1)\n",
      "capacity: 47\n"
     ]
    }
   ],
   "source": [
    "for rt in task.lst_retailers:\n",
    "    print(rt)"
   ]
  },
  {
   "cell_type": "code",
   "execution_count": 372,
   "id": "86eedfcd",
   "metadata": {},
   "outputs": [
    {
     "name": "stdout",
     "output_type": "stream",
     "text": [
      "(7, 7)\n",
      "demand: 1\n",
      "(7, 6)\n",
      "demand: 8\n",
      "(0, 3)\n",
      "demand: 8\n",
      "(2, 6)\n",
      "demand: 3\n",
      "(7, 1)\n",
      "demand: 9\n",
      "(3, 3)\n",
      "demand: 4\n"
     ]
    }
   ],
   "source": [
    "for ct in task.lst_customers:\n",
    "    print(ct)"
   ]
  },
  {
   "cell_type": "code",
   "execution_count": 373,
   "id": "eeacba9b",
   "metadata": {},
   "outputs": [],
   "source": [
    "indi = Individual(task)"
   ]
  },
  {
   "cell_type": "code",
   "execution_count": 374,
   "id": "2c073e9c",
   "metadata": {},
   "outputs": [
    {
     "name": "stdout",
     "output_type": "stream",
     "text": [
      "Customer 0:\n",
      "Plant 1 -> DC 4 -> Retailer 4\n",
      "Customer 1:\n",
      "Plant 2 -> DC 3 -> Retailer 1\n",
      "Customer 2:\n",
      "Plant 1 -> DC 1 -> Retailer 4\n",
      "Customer 3:\n",
      "Plant 2 -> DC 4 -> Retailer 1\n",
      "Customer 4:\n",
      "Plant 1 -> DC 0 -> Retailer 0\n",
      "Customer 5:\n",
      "Plant 0 -> DC 3 -> Retailer 2\n",
      "\n"
     ]
    }
   ],
   "source": [
    "print(indi)"
   ]
  },
  {
   "cell_type": "code",
   "execution_count": 375,
   "id": "f428863c",
   "metadata": {},
   "outputs": [
    {
     "name": "stdout",
     "output_type": "stream",
     "text": [
      "here\n",
      "True\n"
     ]
    }
   ],
   "source": [
    "print(indi.check_valid())"
   ]
  },
  {
   "cell_type": "code",
   "execution_count": null,
   "id": "78c90804",
   "metadata": {},
   "outputs": [],
   "source": []
  }
 ],
 "metadata": {
  "kernelspec": {
   "display_name": "base",
   "language": "python",
   "name": "python3"
  },
  "language_info": {
   "codemirror_mode": {
    "name": "ipython",
    "version": 3
   },
   "file_extension": ".py",
   "mimetype": "text/x-python",
   "name": "python",
   "nbconvert_exporter": "python",
   "pygments_lexer": "ipython3",
   "version": "3.12.9"
  }
 },
 "nbformat": 4,
 "nbformat_minor": 5
}
