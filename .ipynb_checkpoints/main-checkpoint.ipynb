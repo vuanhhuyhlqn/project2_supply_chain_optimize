{
 "cells": [
  {
   "cell_type": "code",
   "execution_count": 1,
   "id": "d981fa17-604d-4287-8291-82f883a59ba7",
   "metadata": {},
   "outputs": [],
   "source": [
    "import numpy as np"
   ]
  },
  {
   "cell_type": "code",
   "execution_count": 62,
   "id": "c9279908-5f51-407b-8a65-79395af210e6",
   "metadata": {},
   "outputs": [],
   "source": [
    "class Task:\n",
    "    def __init__(self, num_plants, num_dcs, num_retailers, num_customers, coord_bound=1000):\n",
    "        self.num_plants = num_plants\n",
    "        self.num_dcs = num_dcs\n",
    "        self.num_retailers = num_retailers\n",
    "        self.num_customers = num_customers\n",
    "\n",
    "        #site coordinates\n",
    "        self.plant_coords = np.random.uniform(-coord_bound, coord_bound, size=(self.num_plants, 2))\n",
    "        self.dc_coords = np.random.uniform(-coord_bound, coord_bound, size=(self.num_dcs, 2))\n",
    "        self.retailer_coords = np.random.uniform(-coord_bound, coord_bound, size=(self.num_retailers, 2))\n",
    "        self.customer_coords = np.random.uniform(-coord_bound, coord_bound, size=(self.num_customers, 2))\n",
    "\n",
    "        #shipping cost\n",
    "        self.x1 = np.zeros((self.num_plants, self.num_dcs))\n",
    "        self.x2 = np.zeros((self.num_dcs, self.num_retailers))\n",
    "        self.x3 = np.zeros((self.num_retailers, self.num_customers))\n",
    "        self.x4 = np.zeros((self.num_plants, self.num_customers))\n",
    "        self.x5 = np.zeros((self.num_dcs, self.num_customers))\n",
    "        self.x6 = np.zeros((self.num_plants, self.num_retailers))\n",
    "\n",
    "    def gen_cost(self, delivery_type):\n",
    "        pass\n",
    "\n",
    "    def dist(self, site_a_coords, site_b_coords):\n",
    "        site_a_coords_x = site_a_coords[:, 0]\n",
    "        site_a_coords_y = site_a_coords[:, 1]\n",
    "        \n",
    "        site_b_coords_x = site_b_coords[:, 0]\n",
    "        site_b_coords_y = site_b_coords[:, 1]\n",
    "\n",
    "        print(site_a_coords_x.strides)\n",
    "\n",
    "        dist_mat_shape = (site_a_coords.shape[0], site_b_coords.shape[0])\n",
    "\n",
    "        site_a_coords_x_ = np.lib.stride_tricks.as_strided(site_a_coords_x, dist_mat_shape, (16, 0))\n",
    "        print(site_a_coords_x_)\n",
    "\n",
    "        print(site_a_coords_x)\n",
    "        print(site_a_coords_y.shape)\n",
    "        print(site_b_coords_x.shape)\n",
    "        print(site_b_coords_y.shape)\n",
    "    \n",
    "        "
   ]
  },
  {
   "cell_type": "code",
   "execution_count": 68,
   "id": "b52ed139-e881-4ba7-8c5b-74386cf19d2b",
   "metadata": {},
   "outputs": [],
   "source": [
    "task = Task(3, 4, 5, 6)\n"
   ]
  },
  {
   "cell_type": "markdown",
   "id": "5e3b8976-c8ec-4a34-aec6-54ac861f2948",
   "metadata": {},
   "source": [
    "plant -> dc -> retailer -> customer"
   ]
  },
  {
   "cell_type": "code",
   "execution_count": 69,
   "id": "50a45ab3-b85b-4f0a-b7cd-6f4493f53aa7",
   "metadata": {},
   "outputs": [
    {
     "name": "stdout",
     "output_type": "stream",
     "text": [
      "(16,)\n",
      "[[ 913.90395261  913.90395261  913.90395261  913.90395261  913.90395261\n",
      "   913.90395261]\n",
      " [-276.23061602 -276.23061602 -276.23061602 -276.23061602 -276.23061602\n",
      "  -276.23061602]\n",
      " [ 635.7172621   635.7172621   635.7172621   635.7172621   635.7172621\n",
      "   635.7172621 ]]\n",
      "[ 913.90395261 -276.23061602  635.7172621 ]\n",
      "(3,)\n",
      "(6,)\n",
      "(6,)\n"
     ]
    }
   ],
   "source": [
    "task.dist(task.plant_coords, task.customer_coords)"
   ]
  }
 ],
 "metadata": {
  "kernelspec": {
   "display_name": "Python 3 (ipykernel)",
   "language": "python",
   "name": "python3"
  },
  "language_info": {
   "codemirror_mode": {
    "name": "ipython",
    "version": 3
   },
   "file_extension": ".py",
   "mimetype": "text/x-python",
   "name": "python",
   "nbconvert_exporter": "python",
   "pygments_lexer": "ipython3",
   "version": "3.9.12"
  }
 },
 "nbformat": 4,
 "nbformat_minor": 5
}
