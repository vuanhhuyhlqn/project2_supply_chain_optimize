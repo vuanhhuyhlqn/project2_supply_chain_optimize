{
 "cells": [
  {
   "cell_type": "code",
   "execution_count": 97,
   "id": "d981fa17-604d-4287-8291-82f883a59ba7",
   "metadata": {},
   "outputs": [],
   "source": [
    "import numpy as np\n",
    "import math"
   ]
  },
  {
   "cell_type": "code",
   "execution_count": 104,
   "id": "c9279908-5f51-407b-8a65-79395af210e6",
   "metadata": {},
   "outputs": [],
   "source": [
    "class Task:\n",
    "    def __init__(self, num_plants, num_dcs, num_retailers, num_customers, coord_bound=1000):\n",
    "        self.num_plants = num_plants\n",
    "        self.num_dcs = num_dcs\n",
    "        self.num_retailers = num_retailers\n",
    "        self.num_customers = num_customers\n",
    "\n",
    "        #site coordinates\n",
    "        self.plant_coords = np.random.uniform(-coord_bound, coord_bound, size=(self.num_plants, 2))\n",
    "        self.dc_coords = np.random.uniform(-coord_bound, coord_bound, size=(self.num_dcs, 2))\n",
    "        self.retailer_coords = np.random.uniform(-coord_bound, coord_bound, size=(self.num_retailers, 2))\n",
    "        self.customer_coords = np.random.uniform(-coord_bound, coord_bound, size=(self.num_customers, 2))\n",
    "\n",
    "        #shipping cost\n",
    "        self.x1 = np.zeros((self.num_plants, self.num_dcs))\n",
    "        self.x2 = np.zeros((self.num_dcs, self.num_retailers))\n",
    "        self.x3 = np.zeros((self.num_retailers, self.num_customers))\n",
    "        self.x4 = np.zeros((self.num_plants, self.num_customers))\n",
    "        self.x5 = np.zeros((self.num_dcs, self.num_customers))\n",
    "        self.x6 = np.zeros((self.num_plants, self.num_retailers))\n",
    "\n",
    "    def gen_cost(self, delivery_type):\n",
    "        pass\n",
    "\n",
    "    def dist(self, site_a_coords, site_b_coords):\n",
    "        print(site_a_coords)\n",
    "        print(site_b_coords)\n",
    "\n",
    "        def single_dist(a, b):\n",
    "            return math.sqrt(((a[0] - b[0]) ** 2) + ((a[1] - b[1]) ** 2))\n",
    "\n",
    "        for i in range(len(site_a_coords)):\n",
    "            for j in range(len(site_b_coords)):\n",
    "                print(\"{0} \".format(single_dist(site_a_coords[i], site_b_coords[j])))\n",
    "            print(\"\")\n",
    "            \n",
    "        site_a_coords_x = site_a_coords[:, 0]\n",
    "        site_a_coords_y = site_a_coords[:, 1]\n",
    "        \n",
    "        site_b_coords_x = site_b_coords[:, 0]\n",
    "        site_b_coords_y = site_b_coords[:, 1]\n",
    "\n",
    "        print(site_a_coords_x.strides)\n",
    "\n",
    "        dist_mat_shape = (site_a_coords.shape[0], site_b_coords.shape[0])\n",
    "\n",
    "        site_a_coords_x_ = np.lib.stride_tricks.as_strided(site_a_coords_x, dist_mat_shape, (16, 0))\n",
    "        site_b_coords_x_ = np.lib.stride_tricks.as_strided(site_b_coords_x, dist_mat_shape, (0, 16))\n",
    "        x_diffs = (site_a_coords_x_ - site_b_coords_x) ** 2\n",
    "\n",
    "        site_a_coords_y_ = np.lib.stride_tricks.as_strided(site_a_coords_y, dist_mat_shape, (16, 0))\n",
    "        site_b_coords_y_ = np.lib.stride_tricks.as_strided(site_b_coords_y, dist_mat_shape, (0, 16))\n",
    "        y_diffs = (site_a_coords_y_ - site_b_coords_y) ** 2\n",
    "        \n",
    "        dist_mat = np.sqrt(x_diffs + y_diffs)\n",
    "        return dist_mat\n",
    "    \n",
    "        "
   ]
  },
  {
   "cell_type": "code",
   "execution_count": 105,
   "id": "b52ed139-e881-4ba7-8c5b-74386cf19d2b",
   "metadata": {},
   "outputs": [],
   "source": [
    "task = Task(3, 4, 5, 6, coord_bound=10.0)\n"
   ]
  },
  {
   "cell_type": "markdown",
   "id": "5e3b8976-c8ec-4a34-aec6-54ac861f2948",
   "metadata": {},
   "source": [
    "plant -> dc -> retailer -> customer"
   ]
  },
  {
   "cell_type": "code",
   "execution_count": 106,
   "id": "50a45ab3-b85b-4f0a-b7cd-6f4493f53aa7",
   "metadata": {},
   "outputs": [
    {
     "name": "stdout",
     "output_type": "stream",
     "text": [
      "[[ 9.33200432 -0.29151358]\n",
      " [-2.98237513  8.64484951]\n",
      " [-2.65173461  8.92096568]]\n",
      "[[-5.48918507 -6.02134266]\n",
      " [-3.59242953 -5.89097987]\n",
      " [-6.77276352  8.84005514]\n",
      " [ 4.37470794  7.50675209]\n",
      " [-8.26126779 -1.05614356]\n",
      " [-5.48118557 -6.95374956]]\n",
      "15.890204409490394\n",
      "(16,)\n"
     ]
    },
    {
     "data": {
      "text/plain": [
       "array([[15.89020441, 14.08527646, 18.51348412,  9.24054841, 17.60988025,\n",
       "        16.24241309],\n",
       "       [14.87888736, 14.54862544,  3.79541162,  7.44459113, 11.04427336,\n",
       "        15.79747912],\n",
       "       [15.20932949, 14.84178688,  4.12182311,  7.16734923, 11.44594125,\n",
       "        16.12489928]])"
      ]
     },
     "execution_count": 106,
     "metadata": {},
     "output_type": "execute_result"
    }
   ],
   "source": [
    "task.dist(task.plant_coords, task.customer_coords)"
   ]
  }
 ],
 "metadata": {
  "kernelspec": {
   "display_name": "Python 3 (ipykernel)",
   "language": "python",
   "name": "python3"
  },
  "language_info": {
   "codemirror_mode": {
    "name": "ipython",
    "version": 3
   },
   "file_extension": ".py",
   "mimetype": "text/x-python",
   "name": "python",
   "nbconvert_exporter": "python",
   "pygments_lexer": "ipython3",
   "version": "3.9.12"
  }
 },
 "nbformat": 4,
 "nbformat_minor": 5
}
